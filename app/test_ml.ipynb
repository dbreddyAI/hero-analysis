{
 "cells": [
  {
   "cell_type": "code",
   "execution_count": 8,
   "metadata": {},
   "outputs": [],
   "source": [
    "import numpy as np\n",
    "import pandas as pd\n",
    "import pickle\n",
    "from sklearn.linear_model import LogisticRegression\n",
    "\n",
    "df = pd.read_csv('data_one.csv')\n",
    "features = df.columns[:2]\n",
    "x = df.iloc[:, :2]\n",
    "y = df.iloc[:, -1]\n",
    "\n",
    "\n",
    "# Creating and training the Logistic Regression model\n",
    "regression = LogisticRegression()\n",
    "regression.fit(x, y)\n",
    "\n",
    "# Saving model to disk\n",
    "pickle.dump(regression, open('model_logistic_regression.pkl', 'wb'))"
   ]
  },
  {
   "cell_type": "code",
   "execution_count": 9,
   "metadata": {},
   "outputs": [],
   "source": [
    "model_logistic_regression = pickle.load(open('model_logistic_regression.pkl', 'rb'))\n"
   ]
  },
  {
   "cell_type": "code",
   "execution_count": 3,
   "metadata": {
    "scrolled": false
   },
   "outputs": [],
   "source": [
    "data = {\n",
    "\t\"from_total\": { \n",
    "\t\t\"distance\": 739, \n",
    "\t\t\"duration\": 567 \n",
    "\t},\n",
    "\t\"from_victim\": { \n",
    "\t\t\"distance\": 739, \n",
    "\t\t\"duration\": 563 \n",
    "\t}\n",
    "}"
   ]
  },
  {
   "cell_type": "code",
   "execution_count": 4,
   "metadata": {},
   "outputs": [],
   "source": [
    "no_aed = data[\"from_victim\"][\"distance\"]\n",
    "aed = data[\"from_total\"][\"distance\"]\n",
    "\n",
    "prob_no_aed = model_logistic_regression.predict_proba([[no_aed, 0]])[0][1]\n",
    "prob_aed = model_logistic_regression.predict_proba([[aed, 1]])[0][1]\n",
    "\n",
    "output = {\n",
    "    \"no aed\": prob_no_aed,\n",
    "    \"aed\": prob_aed,\n",
    "}"
   ]
  },
  {
   "cell_type": "code",
   "execution_count": 5,
   "metadata": {},
   "outputs": [
    {
     "data": {
      "text/plain": [
       "{'no aed': 0.22393236654331475, 'aed': 0.4328804137116933}"
      ]
     },
     "execution_count": 5,
     "metadata": {},
     "output_type": "execute_result"
    }
   ],
   "source": [
    "output"
   ]
  },
  {
   "cell_type": "code",
   "execution_count": 6,
   "metadata": {},
   "outputs": [
    {
     "data": {
      "text/plain": [
       "{'no aed': 0.3273801461775249, 'aed': 0.604514650078855}"
      ]
     },
     "execution_count": 6,
     "metadata": {},
     "output_type": "execute_result"
    }
   ],
   "source": [
    "{'no aed': 0.3273801461775249, 'aed': 0.604514650078855}"
   ]
  },
  {
   "cell_type": "code",
   "execution_count": 7,
   "metadata": {},
   "outputs": [
    {
     "data": {
      "text/plain": [
       "{'no aed': 0.3120726415848735, 'aed': 0.5569353247668339}"
      ]
     },
     "execution_count": 7,
     "metadata": {},
     "output_type": "execute_result"
    }
   ],
   "source": [
    "{'no aed': 0.3120726415848735, 'aed': 0.5569353247668339}"
   ]
  },
  {
   "cell_type": "code",
   "execution_count": null,
   "metadata": {},
   "outputs": [],
   "source": []
  },
  {
   "cell_type": "code",
   "execution_count": null,
   "metadata": {},
   "outputs": [],
   "source": []
  },
  {
   "cell_type": "code",
   "execution_count": null,
   "metadata": {},
   "outputs": [],
   "source": []
  },
  {
   "cell_type": "code",
   "execution_count": null,
   "metadata": {},
   "outputs": [],
   "source": []
  },
  {
   "cell_type": "code",
   "execution_count": null,
   "metadata": {},
   "outputs": [],
   "source": []
  },
  {
   "cell_type": "code",
   "execution_count": null,
   "metadata": {},
   "outputs": [],
   "source": []
  }
 ],
 "metadata": {
  "kernelspec": {
   "display_name": "Python 3",
   "language": "python",
   "name": "python3"
  },
  "language_info": {
   "codemirror_mode": {
    "name": "ipython",
    "version": 3
   },
   "file_extension": ".py",
   "mimetype": "text/x-python",
   "name": "python",
   "nbconvert_exporter": "python",
   "pygments_lexer": "ipython3",
   "version": "3.7.4"
  }
 },
 "nbformat": 4,
 "nbformat_minor": 4
}
